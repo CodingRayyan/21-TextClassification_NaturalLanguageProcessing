{
  "nbformat": 4,
  "nbformat_minor": 0,
  "metadata": {
    "colab": {
      "provenance": []
    },
    "kernelspec": {
      "name": "python3",
      "display_name": "Python 3"
    },
    "language_info": {
      "name": "python"
    }
  },
  "cells": [
    {
      "cell_type": "markdown",
      "source": [
        "# Overview of NLP Tools:\n",
        "\n",
        "## Tools and links:\n",
        "\n",
        "1.  NLTK: https://www.nltk.org/\n",
        "2.  Gensim: https://radimrehurek.com/gensim/\n",
        "3.  Spacy: https://spacy.io/\n",
        "4.  TextBlob: https://textblob.readthedocs.io/en/dev/\n",
        "5.  Stanford CoreNLP: https://stanfordnlp.github.io/CoreNLP/\n",
        "6.  AllenNLP: https://allenai.org/allennlp\n",
        "7.  Flair: https://flairnlp.github.io/\n",
        "8.  Scikit-learn: https://scikit-learn.org/stable/\n",
        "9.  Tensorflow: https://www.tensorflow.org/\n",
        "10. Keras: https://keras.io/\n",
        "11. PyTorch: https://pytorch.org/\n",
        "12. HuggingFace: https://huggingface.co/\n",
        "\n",
        "\n",
        "\n",
        "\n",
        "\n",
        "\n",
        "\n",
        "\n",
        "\n"
      ],
      "metadata": {
        "id": "X3yNXBqMBCPM"
      }
    }
  ]
}