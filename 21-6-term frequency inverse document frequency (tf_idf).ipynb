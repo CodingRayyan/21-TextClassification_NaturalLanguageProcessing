{
  "nbformat": 4,
  "nbformat_minor": 0,
  "metadata": {
    "colab": {
      "provenance": []
    },
    "kernelspec": {
      "name": "python3",
      "display_name": "Python 3"
    },
    "language_info": {
      "name": "python"
    }
  },
  "cells": [
    {
      "cell_type": "markdown",
      "source": [
        "# Term Frequency-Inverse Document Frequency (TF-IDF)\n",
        "\n",
        "###### link: https://scikit-learn.org/stable/modules/generated/sklearn.feature_extraction.text.TfidfTransformer.html\n",
        "\n",
        "## Definition of TF-IDF\n",
        "TF-IDF (Term Frequency - Inverse Document Frequency) is a statistical measure used in NLP to evaluate the importance of a word in a document relative to a collection of documents (corpus). It assigns higher weights to words that are frequent in a specific document but rare across the entire corpus, helping to filter out common words that do not provide much meaning.\n",
        "\n",
        "1. Term Frequency (TF):\n",
        "  - TF measures how frequently a word appears in a document.\n",
        "  - It is calculated as:\n",
        "    - TF = Number of times a word appears in the document /\n",
        "     Total words in the document\n",
        "  - Example: If the word \"AI\" appears 5 times in a document of 100 words, its  \n",
        "    TF is 0.05.\n",
        "\n",
        "\n",
        "2. Inverse Document Frequency (IDF):\n",
        "  - IDF measures how important a word is across the entire corpus.\n",
        "  - It is calculated as:\n",
        "    - IDF = log(Total number of documents / Number of documents containing the word)\n",
        "  - Example: If \"AI\" appears in 2 out of 10 documents, its IDF is log(10/2) = 0.7. A common word like \"the\" appearing in all documents will have a very low IDF, reducing its importance.\n",
        "\n",
        "3. TF-IDF Calculation:\n",
        "  - TF-IDF = TF * IDF\n",
        "  - This ensures that words frequent in a specific document but rare in others get a higher score, making TF-IDF useful in document retrieval, keyword extraction, and text classification. 🚀\n",
        "\n",
        "  ![ifidf.png](data:image/png;base64,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)\n",
        "\n",
        "### Example of TF-IDF\n",
        "\n",
        "- Consider a document containing 100 words wherein the word cat appears 3 times.\n",
        "- The term frequency (i.e:, tf) for cat is then (3 / 100) = 0.03.\n",
        "- Now, assume we have 1000 document and the word cat appears in 10 documents. Ten, the inverse document frequency (i.e: idf) is claculated as log(1000/10) = 2.\n",
        "- Thus, the Tf-idf weight is the product of these quantities: 0.03 * 2 = 0.06.\n"
      ],
      "metadata": {
        "id": "NG7EBPUy5n0P"
      }
    }
  ]
}