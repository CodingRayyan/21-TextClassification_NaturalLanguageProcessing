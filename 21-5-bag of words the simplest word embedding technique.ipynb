{
  "nbformat": 4,
  "nbformat_minor": 0,
  "metadata": {
    "colab": {
      "provenance": []
    },
    "kernelspec": {
      "name": "python3",
      "display_name": "Python 3"
    },
    "language_info": {
      "name": "python"
    }
  },
  "cells": [
    {
      "cell_type": "markdown",
      "source": [
        "# Bag of Words - The Simplest Word Embedding Technique\n",
        "\n",
        "Bag of Words (BoW) is a technique used in natural language processing (NLP) to represent a text document as a numerical vector. The basic idea behind BoW is to convert a text document into vector or word counts, where each dimension of the vector corresponds to a specific word in a vocabulary.\n",
        "\n",
        "### Process to create a BoW Model:\n",
        "\n",
        "1. **Step1:** Create a vocabulary of unique words from the entire corpus.\n",
        "2. **Step2**: Create a vector size equal to the vocabulary size. initialize all values to 0.\n",
        "3. **Step3**: For each word in the document, increment the count of the corresponding index in the vector by 1.\n",
        "4. **Step4**: Repeat steps 2 and 3 for all the documents in the corpus.\n"
      ],
      "metadata": {
        "id": "F8NY7VnfzzAQ"
      }
    },
    {
      "cell_type": "code",
      "source": [
        "doc1 = \"I am high\"\n",
        "doc2 = \"Yes I am high\"\n",
        "doc3 = \"I am kidding\"\n",
        "doc4 = \"I am high. yes I am\""
      ],
      "metadata": {
        "id": "x6bmCpHC2fnJ"
      },
      "execution_count": 1,
      "outputs": []
    }
  ]
}